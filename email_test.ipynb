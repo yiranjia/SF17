{
 "cells": [
  {
   "cell_type": "code",
   "execution_count": null,
   "metadata": {
    "collapsed": false
   },
   "outputs": [],
   "source": [
    "# https://docs.python.org/3/library/email-examples.html\n",
    "# cyberbrushsfhacks@gmail.com \n",
    "# cyberbrush"
   ]
  },
  {
   "cell_type": "code",
   "execution_count": null,
   "metadata": {
    "collapsed": true
   },
   "outputs": [],
   "source": [
    "# Import smtplib for the actual sending function\n",
    "import smtplib\n",
    "\n",
    "# Import the email modules we'll need\n",
    "from email.mime.text import MIMEText\n",
    "\n",
    "# Here are the email package modules we'll need\n",
    "from email.mime.image import MIMEImage\n",
    "from email.mime.multipart import MIMEMultipart"
   ]
  },
  {
   "cell_type": "code",
   "execution_count": 91,
   "metadata": {
    "collapsed": false
   },
   "outputs": [],
   "source": [
    "# Open a plain text file for reading.  For this example, assume that\n",
    "# the text file contains only ASCII characters.\n",
    "#with open('abc') as fp:\n",
    "    # Create a text/plain message\n",
    "    #msg = MIMEText(fp.read())"
   ]
  },
  {
   "cell_type": "code",
   "execution_count": null,
   "metadata": {
    "collapsed": false
   },
   "outputs": [],
   "source": []
  },
  {
   "cell_type": "markdown",
   "metadata": {},
   "source": []
  },
  {
   "cell_type": "code",
   "execution_count": 92,
   "metadata": {
    "collapsed": true
   },
   "outputs": [],
   "source": [
    "COMMASPACE = ', '"
   ]
  },
  {
   "cell_type": "code",
   "execution_count": 93,
   "metadata": {
    "collapsed": true
   },
   "outputs": [],
   "source": [
    "# Create the container (outer) email message.\n",
    "msg = MIMEMultipart()\n",
    "msg['Subject'] = 'Our family reunion'"
   ]
  },
  {
   "cell_type": "code",
   "execution_count": 94,
   "metadata": {
    "collapsed": true
   },
   "outputs": [],
   "source": [
    "# me == the sender's email address\n",
    "# you == the recipient's email address\n",
    "msg['Subject'] = 'The contents of %s' % \"info\"\n",
    "msg['From'] = \"cyberbrushsfhacks@gmail.com\"\n",
    "msg['To'] = \"yiranjia@berkeley.edu\"\n",
    "msg.preamble = 'Our family reunion'"
   ]
  },
  {
   "cell_type": "code",
   "execution_count": 95,
   "metadata": {
    "collapsed": false
   },
   "outputs": [
    {
     "name": "stdout",
     "output_type": "stream",
     "text": [
      "['Haze-Kware.jpg', 'Haze-Kware2.jpg', 'Haze-Kware3.jpg', 'Haze-Kware4.jpg', 'Haze-Kware5.jpg', 'Haze-Kware6.jpg', 'Haze-Kware7.jpg', 'Haze-Kware8.jpg', 'Haze-Kware9.jpg']\n"
     ]
    }
   ],
   "source": [
    "from os import listdir\n",
    "from os.path import isfile, join\n",
    "onlyfiles = [f for f in listdir(\"photo/HK\")]\n",
    "print (onlyfiles)\n"
   ]
  },
  {
   "cell_type": "code",
   "execution_count": 96,
   "metadata": {
    "collapsed": false
   },
   "outputs": [],
   "source": [
    "for file in onlyfiles:\n",
    "    # Open the files in binary mode.  Let the MIMEImage class automatically\n",
    "    # guess the specific image type.\n",
    "    with open('photo/HK/' + file, 'rb') as fp:\n",
    "        img = MIMEImage(fp.read())\n",
    "    msg.attach(img)"
   ]
  },
  {
   "cell_type": "code",
   "execution_count": 97,
   "metadata": {
    "collapsed": false
   },
   "outputs": [
    {
     "data": {
      "text/plain": [
       "(221, b'2.0.0 closing connection z25sm13647136pfi.28 - gsmtp')"
      ]
     },
     "execution_count": 97,
     "metadata": {},
     "output_type": "execute_result"
    }
   ],
   "source": [
    "#Send the message via our own SMTP server.\n",
    "s = smtplib.SMTP('smtp.gmail.com',587)\n",
    "s.starttls()\n",
    "s.login('cyberbrushsfhacks@gmail.com', 'cyberbrus')\n",
    "s.send_message(msg)\n",
    "s.quit()"
   ]
  },
  {
   "cell_type": "code",
   "execution_count": null,
   "metadata": {
    "collapsed": true
   },
   "outputs": [],
   "source": []
  },
  {
   "cell_type": "code",
   "execution_count": 98,
   "metadata": {
    "collapsed": true
   },
   "outputs": [],
   "source": [
    "# Assume we know that the image files are all in PNG format\n",
    "#for file in onlyfiles:\n",
    "    # Open the files in binary mode.  Let the MIMEImage class automatically\n",
    "    # guess the specific image type.\n",
    "    # with open(file, 'rb') as fp:\n",
    "        #part = MIMEBase('application', 'octet-stream')\n",
    "        #part.set_payload((fp).read())\n",
    "        #encoders.encode_base64(part)\n",
    "        #part.add_header('Content-Disposition', \"attachment; filename= %s\" % filename)\n",
    "        \n",
    "        #img = MIMEImage(fp.read())\n",
    "    #msg.attach(img)\n",
    "    \n",
    "    \n",
    "\n",
    "\n",
    "#part.add_header('Content-Disposition', \"attachment; filename= %s\" % filename)\n",
    " \n",
    "#msg.attach(part)"
   ]
  },
  {
   "cell_type": "code",
   "execution_count": null,
   "metadata": {
    "collapsed": true
   },
   "outputs": [],
   "source": []
  },
  {
   "cell_type": "code",
   "execution_count": null,
   "metadata": {
    "collapsed": true
   },
   "outputs": [],
   "source": []
  },
  {
   "cell_type": "code",
   "execution_count": 48,
   "metadata": {
    "collapsed": false
   },
   "outputs": [],
   "source": []
  },
  {
   "cell_type": "code",
   "execution_count": null,
   "metadata": {
    "collapsed": true
   },
   "outputs": [],
   "source": []
  }
 ],
 "metadata": {
  "kernelspec": {
   "display_name": "Python 3",
   "language": "python",
   "name": "python3"
  },
  "language_info": {
   "codemirror_mode": {
    "name": "ipython",
    "version": 3
   },
   "file_extension": ".py",
   "mimetype": "text/x-python",
   "name": "python",
   "nbconvert_exporter": "python",
   "pygments_lexer": "ipython3",
   "version": "3.6.0"
  }
 },
 "nbformat": 4,
 "nbformat_minor": 2
}
