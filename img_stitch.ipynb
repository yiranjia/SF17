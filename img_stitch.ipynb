{
 "cells": [
  {
   "cell_type": "code",
   "execution_count": 1,
   "metadata": {
    "collapsed": true
   },
   "outputs": [],
   "source": [
    "from PIL import Image"
   ]
  },
  {
   "cell_type": "code",
   "execution_count": 45,
   "metadata": {
    "collapsed": true
   },
   "outputs": [],
   "source": [
    "def merge_images(files):\n",
    "    \"\"\"Merge two images into one, displayed side by side\n",
    "    :param file1: path to first image file\n",
    "    :param file2: path to second image file\n",
    "    :return: the merged Image object\n",
    "    \"\"\"\n",
    "    images = [Image.open(file) for file in files]\n",
    "#     image1 = Image.open(file1) \n",
    "#     image2 = Image.open(file2)\n",
    "\n",
    "    widths = [image.size[0] for image in images]\n",
    "    heights = [image.size[1] for image in images]\n",
    "\n",
    "#     (width1, height1) = image1.size\n",
    "#     (width2, height2) = image2.size\n",
    "\n",
    "    result_width = sum(widths)\n",
    "    result_height = max(heights)\n",
    "\n",
    "    result = Image.new('RGB', (result_width, result_height))\n",
    "    width = 0\n",
    "    for i in range(len(images)):\n",
    "        image = images[i]            \n",
    "        result.paste(im=image, box=(width, 0))\n",
    "        width += widths[i]\n",
    "#     result.paste(im=image1, box=(0, 0))\n",
    "#     result.paste(im=image2, box=(width1, 0))\n",
    "    return result"
   ]
  },
  {
   "cell_type": "code",
   "execution_count": 46,
   "metadata": {
    "collapsed": false
   },
   "outputs": [],
   "source": [
    "file1 = \"photo/Meagan Lindsey/1478810816676.jpg\"\n",
    "file3 = \"photo/Meagan Lindsey/1478810923889.jpg\"\n",
    "files = [file1, file3]\n",
    "merged = merge_images(files)"
   ]
  },
  {
   "cell_type": "code",
   "execution_count": 47,
   "metadata": {
    "collapsed": false
   },
   "outputs": [],
   "source": [
    "merged.save(\"output.jpg\")"
   ]
  },
  {
   "cell_type": "code",
   "execution_count": null,
   "metadata": {
    "collapsed": true
   },
   "outputs": [],
   "source": []
  }
 ],
 "metadata": {
  "kernelspec": {
   "display_name": "Python 3",
   "language": "python",
   "name": "python3"
  },
  "language_info": {
   "codemirror_mode": {
    "name": "ipython",
    "version": 3
   },
   "file_extension": ".py",
   "mimetype": "text/x-python",
   "name": "python",
   "nbconvert_exporter": "python",
   "pygments_lexer": "ipython3",
   "version": "3.6.0"
  }
 },
 "nbformat": 4,
 "nbformat_minor": 2
}
